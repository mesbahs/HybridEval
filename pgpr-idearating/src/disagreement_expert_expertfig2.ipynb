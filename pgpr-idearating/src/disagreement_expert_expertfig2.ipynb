{
 "cells": [
  {
   "cell_type": "markdown",
   "id": "reserved-camera",
   "metadata": {},
   "source": [
    "### Creating Fig 2"
   ]
  },
  {
   "cell_type": "code",
   "execution_count": 2,
   "id": "ranging-shirt",
   "metadata": {},
   "outputs": [],
   "source": [
    "import pandas as pd\n",
    "from sklearn.metrics import cohen_kappa_score\n",
    "from scipy.stats.stats import pearsonr\n",
    "from sklearn.metrics import mean_squared_error\n",
    "import statistics\n",
    "import numpy\n",
    "import seaborn as sns\n",
    "import numpy as np\n",
    "import os\n",
    "os.chdir('../')\n",
    "\n",
    "# Reset default params\n",
    "sns.set()\n",
    "\n",
    "import matplotlib.pyplot as plt\n"
   ]
  },
  {
   "cell_type": "code",
   "execution_count": 11,
   "id": "polyphonic-invalid",
   "metadata": {},
   "outputs": [
    {
     "name": "stdout",
     "output_type": "stream",
     "text": [
      "0.15030346304891107\n",
      "0.3147617341454676\n",
      "0.1802107519199858\n",
      "0.3140243902439024\n"
     ]
    }
   ],
   "source": [
    "\n",
    "df=pd.read_csv('input/Batch_renewable_energy_both.csv')\n",
    "df1=df.groupby(\"HITId\").agg({\"HITId\":\"first\",\"Answer.Desirable\":\"first\", \"Answer.feasible\":\"first\", \"Answer.overall\":\"first\",\"Answer.viability\":\"first\",\"Input.variable_name\":\"first\"})\n",
    "list_desirability_expert=[]\n",
    "list_feasibility_expert=[]\n",
    "list_viability_expert=[]\n",
    "list_overall_expert=[]\n",
    "for index, row in df1.iterrows():\n",
    "\n",
    "        list_desirability_expert.append(row[\"Answer.Desirable\"])\n",
    "        list_feasibility_expert.append(row[\"Answer.feasible\"])\n",
    "        list_viability_expert.append(row[\"Answer.viability\"])\n",
    "        list_overall_expert.append(row[\"Answer.overall\"])\n",
    "\n",
    "df2=df.groupby(\"HITId\").agg({\"HITId\":\"last\",\"Answer.Desirable\":\"last\", \"Answer.feasible\":\"last\", \"Answer.overall\":\"last\",\"Answer.viability\":\"last\",\"Input.variable_name\":\"last\"})\n",
    "list_desirability_3=[]\n",
    "list_feasibility_3=[]\n",
    "list_viability_3=[]\n",
    "list_overall_3=[]\n",
    "\n",
    "for index, row in df2.iterrows():\n",
    "\n",
    "\n",
    "        list_desirability_3.append(row[\"Answer.Desirable\"])\n",
    "        list_feasibility_3.append(row[\"Answer.feasible\"])\n",
    "        list_viability_3.append(row[\"Answer.viability\"])\n",
    "        list_overall_3.append(row[\"Answer.overall\"])\n",
    "\n",
    "print(cohen_kappa_score(list_desirability_expert, list_desirability_3))\n",
    "print(cohen_kappa_score(list_feasibility_expert, list_feasibility_3))\n",
    "print(cohen_kappa_score(list_viability_expert, list_viability_3))\n",
    "print(cohen_kappa_score(list_overall_expert, list_overall_3))"
   ]
  },
  {
   "cell_type": "code",
   "execution_count": 12,
   "id": "certified-passage",
   "metadata": {},
   "outputs": [
    {
     "name": "stdout",
     "output_type": "stream",
     "text": [
      "1.2018504251546631\n",
      "1.1338934190276817\n",
      "1.1338934190276817\n",
      "1.3110110602126894\n",
      "1.2909944487358056\n"
     ]
    },
    {
     "data": {
      "image/png": "[encoded data removed]",
      "text/plain": [
       "<Figure size 432x288 with 1 Axes>"
      ]
     },
     "metadata": {},
     "output_type": "display_data"
    }
   ],
   "source": [
    "from math import sqrt\n",
    "\n",
    "X_desirability=[]\n",
    "y_desirability=[]\n",
    "X_feasibility=[]\n",
    "y_feasibility=[]\n",
    "X_viability=[]\n",
    "y_viability=[]\n",
    "X_overall=[]\n",
    "y_overall=[]\n",
    "y_lenght=[]\n",
    "    \n",
    "for rate in [1,2,3,4,5]:\n",
    "    index=[i for i, e in enumerate(list_desirability_expert) if e == rate]\n",
    "\n",
    "    exp_1=[]\n",
    "    crowd_1=[]\n",
    "    len_1=[]\n",
    "    for ii in index:\n",
    "        exp_1.append(list_desirability_expert[ii])\n",
    "        crowd_1.append(list_desirability_3[ii])\n",
    "\n",
    "    print(sqrt(mean_squared_error(exp_1,crowd_1)))\n",
    "    X_desirability.append(rate)\n",
    "    y_desirability.append(sqrt(mean_squared_error(exp_1,crowd_1)))\n",
    "    \n",
    "    index=[i for i, e in enumerate(list_feasibility_expert) if e == rate]\n",
    "\n",
    "    exp_1=[]\n",
    "    crowd_1=[]\n",
    "    for ii in index:\n",
    "        exp_1.append(list_feasibility_expert[ii])\n",
    "        crowd_1.append(list_feasibility_3[ii])\n",
    "\n",
    "    X_feasibility.append(rate)\n",
    "    y_feasibility.append(sqrt(mean_squared_error(exp_1,crowd_1)))\n",
    "    try:\n",
    "    \n",
    "        index=[i for i, e in enumerate(list_viability_expert) if e == rate]\n",
    "\n",
    "        exp_1=[]\n",
    "        crowd_1=[]\n",
    "        for ii in index:\n",
    "            exp_1.append(list_viability_expert[ii])\n",
    "            crowd_1.append(list_viability_3[ii])\n",
    "\n",
    "        y_viability.append(sqrt(mean_squared_error(exp_1,crowd_1)))\n",
    "        X_viability.append(rate)\n",
    "        \n",
    "    except:\n",
    "        pass\n",
    "    try:\n",
    "    \n",
    "        index=[i for i, e in enumerate(list_overall_expert) if e == rate]\n",
    "\n",
    "        exp_1=[]\n",
    "        crowd_1=[]\n",
    "        for ii in index:\n",
    "            exp_1.append(list_overall_expert[ii])\n",
    "            crowd_1.append(list_overall_3[ii])\n",
    "\n",
    "        \n",
    "        y_overall.append(sqrt(mean_squared_error(exp_1,crowd_1)))\n",
    "        X_overall.append(rate)\n",
    "        \n",
    "    except:\n",
    "        pass\n",
    "\n",
    "\n",
    "\n",
    "###########################################\n",
    "\n",
    "plt.plot(X_overall, y_overall, label='Overall feeling' )\n",
    "plt.plot(X_desirability, y_desirability, label='Desirability')\n",
    "plt.plot(X_feasibility, y_feasibility, label='Feasibility')\n",
    "plt.plot(X_viability, y_viability, label='Viability')\n",
    "\n",
    "plt.ylim(0,3.2)\n",
    "plt.legend(loc='upper right')\n",
    "plt.xlabel('Ratings', fontsize=18)\n",
    "plt.ylabel('Disagreement', fontsize=18)\n",
    "plt.show()"
   ]
  }
 ],
 "metadata": {
  "kernelspec": {
   "display_name": "Python 3",
   "language": "python",
   "name": "python3"
  },
  "language_info": {
   "codemirror_mode": {
    "name": "ipython",
    "version": 3
   },
   "file_extension": ".py",
   "mimetype": "text/x-python",
   "name": "python",
   "nbconvert_exporter": "python",
   "pygments_lexer": "ipython3",
   "version": "3.8.8"
  }
 },
 "nbformat": 4,
 "nbformat_minor": 5
}
